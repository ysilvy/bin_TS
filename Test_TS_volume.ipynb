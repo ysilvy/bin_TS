{
 "cells": [
  {
   "cell_type": "code",
   "execution_count": 1,
   "metadata": {},
   "outputs": [],
   "source": [
    "import numpy as np\n",
    "import matplotlib.pyplot as plt\n",
    "import os, glob\n",
    "from netCDF4 import Dataset as open_ncfile\n",
    "import xarray as xr"
   ]
  },
  {
   "cell_type": "markdown",
   "metadata": {},
   "source": [
    "# Using volume from a density binned file"
   ]
  },
  {
   "cell_type": "code",
   "execution_count": 2,
   "metadata": {},
   "outputs": [
    {
     "name": "stdout",
     "output_type": "stream",
     "text": [
      "1.3977086215200918\n"
     ]
    }
   ],
   "source": [
    "# Read global thickness of isopycnals and compute volume (because wrong zonal volume)\n",
    "f = open_ncfile('/data/ericglod/Density_binning/Obs_Prod_density_april16/obs.EN4.historical.r0i0p0.mo.ocn.Omon.density.ver-1.latestX.nc')\n",
    "thick = np.ma.average(f.variables['isonthickg'][:,:,:,:],axis=0)/1.e03\n",
    "targetGrid = '/home/ysilvy/Density_bining/Yona_analysis/data/170224_WOD13_masks.nc'\n",
    "# Target horizonal grid\n",
    "gridFile_f  = open_ncfile(targetGrid,'r')\n",
    "maskg       = gridFile_f.variables['basinmask3'][:]\n",
    "areai = gridFile_f.variables['basinmask3_area'][:] #(latitude,longitude), in km2\n",
    "Nii     = areai.shape[1]\n",
    "Nji     = areai.shape[0]\n",
    "N_s = thick.shape[0]\n",
    "areaisig = np.tile(np.ma.reshape(areai,Nii*Nji), (N_s,1))\n",
    "areaisig = np.ma.reshape(areaisig,[N_s,Nji,Nii])\n",
    "maski       = maskg.mask ; # Global mask\n",
    "# Regional masks\n",
    "maskAtl = maski*1 ; maskAtl[...] = True\n",
    "idxa = np.argwhere(maskg == 1).transpose()\n",
    "maskAtl[idxa[0],idxa[1]] = False\n",
    "maskPac = maski*1 ; maskPac[...] = True\n",
    "idxp = np.argwhere(maskg == 2).transpose()\n",
    "maskPac[idxp[0],idxp[1]] = False\n",
    "maskInd = maski*1 ; maskInd[...] = True\n",
    "idxi = np.argwhere(maskg == 3).transpose()\n",
    "maskInd[idxi[0],idxi[1]] = False\n",
    "\n",
    "# Compute total volume as thickness*area of each cell\n",
    "volEN4 = thick*(1-(thick.mask).astype(int))*areaisig\n",
    "print(np.ma.sum(volEN4)/1.e09) # In km3\n"
   ]
  },
  {
   "cell_type": "code",
   "execution_count": 3,
   "metadata": {},
   "outputs": [],
   "source": [
    "# Read variables\n",
    "lat = f.variables['latitude'][:]\n",
    "density = f.variables['lev'][:]\n",
    "T = np.ma.average(f.variables['thetaog'][:],axis=0) # Climatological average of thetao field\n",
    "S = np.ma.average(f.variables['sog'][:],axis=0)\n",
    "\n",
    "basinN=4\n",
    "latN = len(lat)\n",
    "densityN = len(density)\n"
   ]
  },
  {
   "cell_type": "code",
   "execution_count": 4,
   "metadata": {},
   "outputs": [],
   "source": [
    "lati = 30\n",
    "loni = 300"
   ]
  },
  {
   "cell_type": "code",
   "execution_count": 69,
   "metadata": {},
   "outputs": [],
   "source": [
    "Ti = np.ma.compressed(T[:,lati,loni])\n",
    "Si = np.ma.compressed(S[:,lati,loni])\n",
    "voli = np.ma.compressed(volEN4[:,lati,loni])"
   ]
  },
  {
   "cell_type": "code",
   "execution_count": 51,
   "metadata": {},
   "outputs": [
    {
     "data": {
      "text/plain": [
       "Text(0, 0.5, 'Temperature')"
      ]
     },
     "execution_count": 51,
     "metadata": {},
     "output_type": "execute_result"
    },
    {
     "data": {
      "image/png": "[encoded data removed]",
      "text/plain": [
       "<Figure size 432x288 with 1 Axes>"
      ]
     },
     "metadata": {
      "needs_background": "light"
     },
     "output_type": "display_data"
    }
   ],
   "source": [
    "#plt.scatter(Si,Ti,c=voli)\n",
    "plt.scatter(S[:,0:90,:],T[:,0:90,:])\n",
    "plt.xlabel(\"Salinity\")\n",
    "plt.ylabel('Temperature')\n",
    "#cb = plt.colorbar()\n",
    "#cb.set_label('Volume')"
   ]
  },
  {
   "cell_type": "code",
   "execution_count": 39,
   "metadata": {},
   "outputs": [],
   "source": [
    "x_bins = np.arange(34,36,0.05)\n",
    "y_bins = np.arange(-2,25,0.1)"
   ]
  },
  {
   "cell_type": "code",
   "execution_count": 48,
   "metadata": {},
   "outputs": [],
   "source": [
    "Ttest = np.ma.compressed(T[:,:,:])\n",
    "Stest = np.ma.compressed(S[:,:,:])\n",
    "Vtest = np.ma.compressed(volEN4[:,:,:])"
   ]
  },
  {
   "cell_type": "code",
   "execution_count": 49,
   "metadata": {},
   "outputs": [
    {
     "data": {
      "text/plain": [
       "Text(0, 0.5, 'Temperature')"
      ]
     },
     "execution_count": 49,
     "metadata": {},
     "output_type": "execute_result"
    },
    {
     "data": {
      "image/png": "[encoded data removed]",
      "text/plain": [
       "<Figure size 432x288 with 2 Axes>"
      ]
     },
     "metadata": {
      "needs_background": "light"
     },
     "output_type": "display_data"
    }
   ],
   "source": [
    "plt.hist2d(Stest,Ttest,weights=Vtest,bins=[x_bins,y_bins],cmin=1,density=True)\n",
    "plt.colorbar()\n",
    "plt.xlabel(\"Salinity\")\n",
    "plt.ylabel('Temperature')\n",
    "#plt.xlim([25,41])\n",
    "#plt.ylim([-3,30])"
   ]
  },
  {
   "cell_type": "code",
   "execution_count": 61,
   "metadata": {},
   "outputs": [],
   "source": [
    "Scoord = np.arange(30,40.001,0.05)\n",
    "Tcoord = np.arange(-3,38,0.1)"
   ]
  },
  {
   "cell_type": "code",
   "execution_count": 67,
   "metadata": {},
   "outputs": [],
   "source": [
    "Vbin = np.ma.zeros([len(Scoord),len(Tcoord)])"
   ]
  },
  {
   "cell_type": "code",
   "execution_count": 68,
   "metadata": {},
   "outputs": [
    {
     "data": {
      "text/plain": [
       "(201, 410)"
      ]
     },
     "execution_count": 68,
     "metadata": {},
     "output_type": "execute_result"
    }
   ],
   "source": [
    "Vbin.shape"
   ]
  },
  {
   "cell_type": "code",
   "execution_count": 79,
   "metadata": {},
   "outputs": [],
   "source": [
    "for i in range(len(Ti)):\n",
    "    idxS = np.ma.argmin(np.abs(Scoord-Si[i]))\n",
    "    idxT = np.ma.argmin(np.abs(Tcoord-Ti[i]))\n",
    "    Vbin[idxS,idxT] = Vbin[idxS,idxT] + voli[i]"
   ]
  },
  {
   "cell_type": "code",
   "execution_count": 82,
   "metadata": {},
   "outputs": [
    {
     "data": {
      "text/plain": [
       "(201, 410)"
      ]
     },
     "execution_count": 82,
     "metadata": {},
     "output_type": "execute_result"
    }
   ],
   "source": [
    "Vbin.shape"
   ]
  },
  {
   "cell_type": "code",
   "execution_count": 84,
   "metadata": {},
   "outputs": [
    {
     "name": "stderr",
     "output_type": "stream",
     "text": [
      "/home/ysilvy/.conda/envs/cdat81_py36/lib/python3.6/site-packages/ipykernel_launcher.py:1: UserWarning: The following kwargs were not used by contour: 'cmin'\n",
      "  \"\"\"Entry point for launching an IPython kernel.\n"
     ]
    },
    {
     "data": {
      "text/plain": [
       "<matplotlib.colorbar.Colorbar at 0x2b439169e7f0>"
      ]
     },
     "execution_count": 84,
     "metadata": {},
     "output_type": "execute_result"
    },
    {
     "data": {
      "image/png": "[encoded data removed]",
      "text/plain": [
       "<Figure size 432x288 with 2 Axes>"
      ]
     },
     "metadata": {
      "needs_background": "light"
     },
     "output_type": "display_data"
    }
   ],
   "source": [
    "plt.contourf(Vbin, cmin=1)\n",
    "plt.colorbar()"
   ]
  },
  {
   "cell_type": "markdown",
   "metadata": {},
   "source": [
    "# Using xhistogram"
   ]
  },
  {
   "cell_type": "code",
   "execution_count": 1,
   "metadata": {},
   "outputs": [],
   "source": [
    "import xarray as xr\n",
    "import numpy as np\n",
    "%matplotlib inline\n",
    "from xhistogram.xarray import histogram"
   ]
  },
  {
   "cell_type": "code",
   "execution_count": 2,
   "metadata": {},
   "outputs": [],
   "source": [
    "datadirT = '/bdd/CMIP6/CMIP/IPSL/IPSL-CM6A-LR/piControl/r1i1p1f1/Omon/thetao/gn/latest/'\n",
    "fileT = 'thetao_Omon_IPSL-CM6A-LR_piControl_r1i1p1f1_gn_295001-304912.nc'\n",
    "datadirS = '/bdd/CMIP6/CMIP/IPSL/IPSL-CM6A-LR/piControl/r1i1p1f1/Omon/so/gn/latest/'\n",
    "fileS = 'so_Omon_IPSL-CM6A-LR_piControl_r1i1p1f1_gn_295001-304912.nc'"
   ]
  },
  {
   "cell_type": "code",
   "execution_count": 3,
   "metadata": {},
   "outputs": [
    {
     "name": "stderr",
     "output_type": "stream",
     "text": [
      "/home/ysilvy/.conda/envs/cdat81_py36/lib/python3.6/site-packages/xarray/coding/times.py:419: SerializationWarning: Unable to decode time axis into full numpy.datetime64 objects, continuing using cftime.datetime objects instead, reason: dates out of range\n",
      "  self.use_cftime)\n",
      "/home/ysilvy/.conda/envs/cdat81_py36/lib/python3.6/site-packages/xarray/coding/times.py:419: SerializationWarning: Unable to decode time axis into full numpy.datetime64 objects, continuing using cftime.datetime objects instead, reason: dates out of range\n",
      "  self.use_cftime)\n",
      "/home/ysilvy/.conda/envs/cdat81_py36/lib/python3.6/site-packages/numpy/core/_asarray.py:85: SerializationWarning: Unable to decode time axis into full numpy.datetime64 objects, continuing using cftime.datetime objects instead, reason: dates out of range\n",
      "  return array(a, dtype, copy=False, order=order)\n",
      "/home/ysilvy/.conda/envs/cdat81_py36/lib/python3.6/site-packages/xarray/coding/times.py:419: SerializationWarning: Unable to decode time axis into full numpy.datetime64 objects, continuing using cftime.datetime objects instead, reason: dates out of range\n",
      "  self.use_cftime)\n",
      "/home/ysilvy/.conda/envs/cdat81_py36/lib/python3.6/site-packages/xarray/coding/times.py:419: SerializationWarning: Unable to decode time axis into full numpy.datetime64 objects, continuing using cftime.datetime objects instead, reason: dates out of range\n",
      "  self.use_cftime)\n",
      "/home/ysilvy/.conda/envs/cdat81_py36/lib/python3.6/site-packages/numpy/core/_asarray.py:85: SerializationWarning: Unable to decode time axis into full numpy.datetime64 objects, continuing using cftime.datetime objects instead, reason: dates out of range\n",
      "  return array(a, dtype, copy=False, order=order)\n"
     ]
    }
   ],
   "source": [
    "Tds = xr.open_dataset(datadirT+fileT)\n",
    "Sds = xr.open_dataset(datadirS+fileS)"
   ]
  },
  {
   "cell_type": "code",
   "execution_count": 4,
   "metadata": {},
   "outputs": [],
   "source": [
    "sbins = np.arange(31,38, 0.025)\n",
    "tbins = np.arange(-2, 32, 0.1)"
   ]
  },
  {
   "cell_type": "code",
   "execution_count": 5,
   "metadata": {},
   "outputs": [],
   "source": [
    "# datadirV = '/bdd/CMIP6/CMIP/IPSL/IPSL-CM6A-LR/piControl/r1i1p1f1/Omon/volo/gn/latest/'\n",
    "# fileV = 'volo_Omon_IPSL-CM6A-LR_piControl_r1i1p1f1_gn_285001-304912.nc'\n",
    "datadirareacello = '/mnt/tgcc/CMIP6/CMIP/IPSL/IPSL-CM6A-LR/piControl/r1i1p1f1/Ofx/areacello/gn/v20181123/'\n",
    "fileareacello = 'areacello_Ofx_IPSL-CM6A-LR_piControl_r1i1p1f1_gn.nc'"
   ]
  },
  {
   "cell_type": "code",
   "execution_count": 6,
   "metadata": {},
   "outputs": [],
   "source": [
    "# Vds = (xr.open_dataset(datadirV+fileV)).sel(time=slice('295001', '304912'))\n",
    "a = xr.open_dataset(datadirareacello + fileareacello)"
   ]
  },
  {
   "cell_type": "code",
   "execution_count": 8,
   "metadata": {},
   "outputs": [],
   "source": [
    "# Create a dz variable\n",
    "dz = np.diff(Tds.olevel)\n",
    "dz = np.insert(dz, 0, dz[0])\n",
    "dz = xr.DataArray(dz, coords= {'olevel':Tds.olevel}, dims='olevel')\n",
    "\n",
    "dVol = a.areacello*dz"
   ]
  },
  {
   "cell_type": "code",
   "execution_count": 35,
   "metadata": {},
   "outputs": [],
   "source": [
    "T = Tds.sel(time=slice('304501','304912'))\n",
    "S = Sds.sel(time=slice('304501','304912'))"
   ]
  },
  {
   "cell_type": "code",
   "execution_count": 36,
   "metadata": {},
   "outputs": [],
   "source": [
    "Tclim = T.mean(dim='time')\n",
    "Sclim = S.mean(dim='time')"
   ]
  },
  {
   "cell_type": "code",
   "execution_count": 84,
   "metadata": {},
   "outputs": [],
   "source": [
    "hTS = histogram(Sclim.so, Tclim.thetao, bins=[sbins,tbins], weights=dVol)"
   ]
  },
  {
   "cell_type": "code",
   "execution_count": 87,
   "metadata": {},
   "outputs": [
    {
     "data": {
      "text/plain": [
       "<matplotlib.collections.QuadMesh at 0x2b4714156828>"
      ]
     },
     "execution_count": 87,
     "metadata": {},
     "output_type": "execute_result"
    },
    {
     "data": {
      "image/png": "[encoded data removed]",
      "text/plain": [
       "<Figure size 432x288 with 2 Axes>"
      ]
     },
     "metadata": {
      "needs_background": "light"
     },
     "output_type": "display_data"
    }
   ],
   "source": [
    "np.log10(hTS.T).plot(levels=31, vmin=11.5, vmax=16, cmap='inferno')"
   ]
  },
  {
   "cell_type": "markdown",
   "metadata": {},
   "source": [
    "# Historical volume change "
   ]
  },
  {
   "cell_type": "code",
   "execution_count": null,
   "metadata": {},
   "outputs": [],
   "source": [
    "# Choose files\n",
    "datadirT = '/bdd/CMIP6/CMIP/IPSL/IPSL-CM6A-LR/historical/r1i1p1f1/Odec/thetao/gn/latest/'\n",
    "fileT = 'thetao_Odec_IPSL-CM6A-LR_historical_r1i1p1f1_gn_1855-2005.nc'\n",
    "datadirS = '/bdd/CMIP6/CMIP/IPSL/IPSL-CM6A-LR/historical/r1i1p1f1/Odec/so/gn/latest/'\n",
    "fileS = 'so_Odec_IPSL-CM6A-LR_historical_r1i1p1f1_gn_1855-2005.nc'\n",
    "datadirareacello = '/bdd/CMIP6/CMIP/IPSL/IPSL-CM6A-LR/historical/r1i1p1f1/Ofx/areacello/gn/latest/'\n",
    "fileareacello = 'areacello_Ofx_IPSL-CM6A-LR_historical_r1i1p1f1_gn.nc'\n",
    "\n",
    "# Read files\n",
    "Tds = xr.open_dataset(datadirT+fileT)\n",
    "Sds = xr.open_dataset(datadirS+fileS)\n",
    "a = xr.open_dataset(datadirareacello + fileareacello)\n",
    "\n",
    "# Create volume per grid cell\n",
    "dz = np.diff(Tds.olevel)\n",
    "dz = np.insert(dz, 0, dz[0])\n",
    "dz = xr.DataArray(dz, coords= {'olevel':Tds.olevel}, dims='olevel')\n",
    "dVol = a.areacello*dz\n",
    "\n",
    "# Define bin sizes\n",
    "sbins = np.arange(31,38, 0.025)\n",
    "tbins = np.arange(-2, 32, 0.1)\n",
    "\n",
    "# Select period and read T/S data\n",
    "T2 = Tds.thetao[-2:,:,:,:]\n",
    "S2 = Sds.so\n",
    "T1 = Tds.thetao[0:2,:,:,:]\n",
    "S1 = Sds.so[0:2,:,:,:]\n",
    "\n",
    "T1clim = T1.mean(dim='time')\n",
    "S1clim = S1.mean(dim='time')\n",
    "T2clim = T2.mean(dim='time')\n",
    "S2clim = S2.mean(dim='time')\n",
    "\n",
    "# Make histograms\n",
    "hTS1 = histogram(S1clim, T1clim, bins=[sbins,tbins], weights=dVol)\n",
    "hTS2 = histogram(S2clim, T2clim, bins=[sbins,tbins], weights=dVol)\n",
    "\n",
    "hTS_change = hTS2-hTS1\n",
    "\n",
    "(hTS_change.T).plot(vmin=-5.e14, vmax=5.e14, cmap='bwr')"
   ]
  },
  {
   "cell_type": "code",
   "execution_count": null,
   "metadata": {},
   "outputs": [],
   "source": []
  }
 ],
 "metadata": {
  "kernelspec": {
   "display_name": "Python [conda env:.conda-cdat81_py36]",
   "language": "python",
   "name": "conda-env-.conda-cdat81_py36-py"
  },
  "language_info": {
   "codemirror_mode": {
    "name": "ipython",
    "version": 3
   },
   "file_extension": ".py",
   "mimetype": "text/x-python",
   "name": "python",
   "nbconvert_exporter": "python",
   "pygments_lexer": "ipython3",
   "version": "3.6.7"
  }
 },
 "nbformat": 4,
 "nbformat_minor": 2
}
